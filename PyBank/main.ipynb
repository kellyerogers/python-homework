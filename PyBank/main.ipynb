{
 "cells": [
  {
   "cell_type": "code",
   "execution_count": 24,
   "metadata": {},
   "outputs": [
    {
     "name": "stdout",
     "output_type": "stream",
     "text": [
      "Total months: 86\n"
     ]
    }
   ],
   "source": [
    "# The total number of months included in the dataset.\n",
    "\n",
    "import csv\n",
    "\n",
    "month_count = -1 # skip header\n",
    "\n",
    "for row in open(\"budget_data.csv\"):\n",
    "    column = 1\n",
    "    datatype = float\n",
    "    month_count += 1\n",
    "    \n",
    "print(\"Total months:\", month_count)"
   ]
  },
  {
   "cell_type": "code",
   "execution_count": 72,
   "metadata": {},
   "outputs": [
    {
     "name": "stdout",
     "output_type": "stream",
     "text": [
      "Total Months: 86\n",
      "Total: $38382578\n",
      "Average Change: -2315.12\n",
      "Best Gain: 1926159\n",
      "Worst Loss: -2196167\n"
     ]
    }
   ],
   "source": [
    "# The net total amount of Profit/Losses over the entire period.\n",
    "\n",
    "import pandas as pd\n",
    "import csv\n",
    "\n",
    "month_count = -1 # skip header\n",
    "\n",
    "for row in open(\"budget_data.csv\"):\n",
    "    column = 1\n",
    "    datatype = float\n",
    "    month_count += 1\n",
    "\n",
    "df = pd.read_csv (r'budget_data.csv')\n",
    "\n",
    "sum1 = df['Profit/Losses'].sum() #sum of all values under Profit/Losses\n",
    "\n",
    "# The average of the changes in Profit/Losses over the entire period.\n",
    "\n",
    "# First showcase every Profit/Loss in the list\n",
    "col_list = [\"Profit/Losses\"]\n",
    "df = pd.read_csv(\"budget_data.csv\", usecols=col_list)\n",
    "pnl = col_list\n",
    "\n",
    "# Initialize the metric variables\n",
    "count = 0\n",
    "total = 0\n",
    "average = 0\n",
    "minimum = 0\n",
    "maximum = 0\n",
    "\n",
    "# Initialize lists to hold profitable and unprofitable day profits/losses\n",
    "profitable_days = []\n",
    "unprofitable_days = []\n",
    "\n",
    "# List profits/losses\n",
    "pnl= [116771, -662642, -391430, 379920, 212354, 510239, -428211, -821271, 693918, 416278, -974163, 860159, -1115009, 1033048, 95318, -308093, 99052, -521393, 605450, 231727, -65187, -702716, 177975, -1065544, 1926159, -917805, 898730, -334262, -246499, -64055, -1529236, 1497596, 304914, -635801, 398319, -183161, -37864, -253689, 403655, 94168, 306877, -83000, 210462, -2196167, 1465222, -956983, 1838447, -468003, -64602, 206242, -242155, -449079, 315198, 241099, 111540, 365942, -219310, -368665, 409837, 151210, -110244, -341938, -1212159, 683246, -70825, 335594, 417334, -272194, -236462, 657432, -211262, -128237, -1750387, 925441, 932089, -311434, 267252, -1876758, 1733696, 198551, -665765, 693229, -734926, 77242, 532869]\n",
    "\n",
    "# Iterate over each element of the list\n",
    "for day_pnl in pnl:\n",
    "\n",
    "\n",
    "    # Cumulatively sum up the total profits/losses and count of trading days\n",
    "    total += day_pnl\n",
    "    count += 1\n",
    "\n",
    "    # Logic to determine minimum and maximum values\n",
    "    if minimum == 0:\n",
    "        minimum = day_pnl\n",
    "    elif day_pnl < minimum:\n",
    "        minimum = day_pnl\n",
    "    elif day_pnl > maximum:\n",
    "        maximum = day_pnl\n",
    "        \n",
    "    # Logic to determine profitable vs. unprofitable days\n",
    "    if day_pnl > 0:\n",
    "        profitable_days.append(day_pnl)\n",
    "    elif day_pnl <= 0:\n",
    "        unprofitable_days.append(day_pnl)\n",
    "\n",
    "# Calculate the average\n",
    "average = round(total / count, 2)\n",
    "\n",
    "# Count metrics\n",
    "profitable_count = len(profitable_days)\n",
    "unprofitable_count = len(unprofitable_days)\n",
    "\n",
    "\n",
    "#The greatest increase in profits (date and amount) over the entire period.\n",
    "\n",
    "\n",
    "# PRINT OUT EVERYTHING\n",
    "\n",
    "# The total number of months included in the dataset.\n",
    "print(\"Total Months:\", month_count)\n",
    "# The sum of all Profit/Losses\n",
    "print ('Total: $' + str(sum1))\n",
    "# The average of the changes in \"Profit/Losses\" over the entire period\n",
    "print(f\"Average Change: {average}\")\n",
    "# The greatest increase in profits (date and amount) over the entire period\n",
    "print(f\"Greatest Increase in Profits: {maximum}\")\n",
    "# The greatest decrease in losses (date and amount) over the entire period.\n",
    "print(f\"Greatest Decrease in Profits: {minimum}\")\n",
    "\n"
   ]
  },
  {
   "cell_type": "code",
   "execution_count": 57,
   "metadata": {},
   "outputs": [
    {
     "name": "stdout",
     "output_type": "stream",
     "text": [
      "0     867884\n",
      "1     984655\n",
      "2     322013\n",
      "3     -69417\n",
      "4     310503\n",
      "       ...  \n",
      "81    102685\n",
      "82    795914\n",
      "83     60988\n",
      "84    138230\n",
      "85    671099\n",
      "Name: Profit/Losses, Length: 86, dtype: int64\n"
     ]
    }
   ],
   "source": [
    "# Showcase every Profit/Loss in the list\n",
    "col_list = [\"Profit/Losses\"]\n",
    "df = pd.read_csv(\"budget_data.csv\", usecols=col_list)\n",
    "\n",
    "print(df[\"Profit/Losses\"])"
   ]
  },
  {
   "cell_type": "code",
   "execution_count": 14,
   "metadata": {},
   "outputs": [
    {
     "name": "stdout",
     "output_type": "stream",
     "text": [
      "Average  Change: 536357.9479408462\n"
     ]
    }
   ],
   "source": [
    "# The average of the changes in Profit/Losses over the entire period.\n",
    "\n",
    "import pandas as pd\n",
    "\n",
    "df = pd.read_csv (r'budget_data.csv')\n",
    "\n",
    "std1 = df['Profit/Losses'].std() # standard deviation of all the values under the column\n",
    "\n",
    "print ('Average  Change: ' + str(std1))\n"
   ]
  }
 ],
 "metadata": {
  "kernelspec": {
   "display_name": "Python 3",
   "language": "python",
   "name": "python3"
  },
  "language_info": {
   "codemirror_mode": {
    "name": "ipython",
    "version": 3
   },
   "file_extension": ".py",
   "mimetype": "text/x-python",
   "name": "python",
   "nbconvert_exporter": "python",
   "pygments_lexer": "ipython3",
   "version": "3.7.6"
  }
 },
 "nbformat": 4,
 "nbformat_minor": 4
}
